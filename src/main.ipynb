{
  "cells": [
    {
      "cell_type": "code",
      "execution_count": 1,
      "metadata": {},
      "outputs": [],
      "source": [
        "from bing_image_downloader.downloader import download"
      ]
    },
    {
      "cell_type": "code",
      "execution_count": 2,
      "metadata": {},
      "outputs": [],
      "source": [
        "def busca_imagens(query_string):\n",
        "    download(query_string, limit=100,  output_dir='dataset_test', adult_filter_off=True, force_replace=False, timeout=60, verbose=False)"
      ]
    },
    {
      "cell_type": "code",
      "execution_count": 3,
      "metadata": {},
      "outputs": [],
      "source": [
        "query_arr = [ \n",
        "    '...', \n",
        "    '...', \n",
        "    '...'\n",
        "]"
      ]
    },
    {
      "cell_type": "code",
      "execution_count": null,
      "metadata": {},
      "outputs": [],
      "source": [
        "import concurrent.futures\n",
        "\n",
        "with concurrent.futures.ThreadPoolExecutor(max_workers=8) as executor:\n",
        "\n",
        "    future_to_search_img = { executor.submit(busca_imagens, query): query for query in query_arr }\n",
        "\n",
        "    for future in concurrent.futures.as_completed(future_to_search_img):\n",
        "        \n",
        "        result = future_to_search_img[future]\n",
        "        \n",
        "        try:\n",
        "            data = future.result()\n",
        "        except Exception as exc:\n",
        "            print('%r generated an exception: %s' % (result, exc))"
      ]
    }
  ],
  "metadata": {
    "colab": {
      "collapsed_sections": [],
      "name": "Trabalho Prático Final T1 - _Seu Nome_.ipynb",
      "provenance": []
    },
    "kernelspec": {
      "display_name": "Python 3.7.6 64-bit",
      "language": "python",
      "name": "python3"
    },
    "language_info": {
      "codemirror_mode": {
        "name": "ipython",
        "version": 3
      },
      "file_extension": ".py",
      "mimetype": "text/x-python",
      "name": "python",
      "nbconvert_exporter": "python",
      "pygments_lexer": "ipython3",
      "version": "3.10.12"
    },
    "vscode": {
      "interpreter": {
        "hash": "40040881626c9fb1875d7120c6f8fb214925b9b787db6e21a1a1fd53c013645f"
      }
    }
  },
  "nbformat": 4,
  "nbformat_minor": 0
}
